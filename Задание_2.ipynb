{
 "cells": [
  {
   "cell_type": "markdown",
   "metadata": {
    "colab_type": "text",
    "id": "view-in-github"
   },
   "source": [
    "<a href=\"https://colab.research.google.com/github/Letch49/ML_vvsu_2024/blob/master/lab2/%D0%97%D0%B0%D0%B4%D0%B0%D0%BD%D0%B8%D0%B5_2.ipynb\" target=\"_parent\"><img src=\"https://colab.research.google.com/assets/colab-badge.svg\" alt=\"Open In Colab\"/></a>"
   ]
  },
  {
   "cell_type": "markdown",
   "metadata": {
    "id": "_dGfjiUjUNab"
   },
   "source": [
    "#Задание по практике 2"
   ]
  },
  {
   "cell_type": "code",
   "execution_count": 38,
   "metadata": {
    "id": "7u0VPzz-UKNu"
   },
   "outputs": [],
   "source": [
    "import pandas as pd\n",
    "import seaborn as sns\n",
    "import matplotlib.pyplot as plt\n",
    "import numpy as np"
   ]
  },
  {
   "cell_type": "markdown",
   "metadata": {
    "id": "yKPA-E-VVSS-"
   },
   "source": [
    "##Введение в описательную статистику"
   ]
  },
  {
   "cell_type": "markdown",
   "metadata": {
    "id": "Rrr4WPcGUwOx"
   },
   "source": [
    "1. Выберите категориальную целевую переменную (**Y**)\n",
    "\n",
    "2. Выберите переменную для анализа относительно категории (**X**)\n",
    "\n",
    "3. Выведитие обобщенную статистическую информацию переменной (**X**)\n",
    "\n",
    "2. Вычислите среднее, медиану, моду, минимум, максимум, стандартное отклонение относительно целевой пременной из файла Classification datasets в соответствии с вашим вариантом\n",
    "\n",
    "3. Сделайте вывод относительно полученных результатов\n",
    "\n",
    "p.s если у вас нет категориальных признаков - преобразуйте любой числовой в категориальный (https://pandas.pydata.org/docs/reference/api/pandas.cut.html). Важно **не** использовать преобразованный Y вместе с этим же X (то есть, если вы преобразовали возраст в категорию, то вы не моежет использовать возраст в качестве X и возраст категорию в качестве Y)"
   ]
  },
  {
   "cell_type": "code",
   "execution_count": 39,
   "metadata": {
    "id": "wZiCpTwgUuYw"
   },
   "outputs": [
    {
     "data": {
      "text/html": [
       "<div>\n",
       "<style scoped>\n",
       "    .dataframe tbody tr th:only-of-type {\n",
       "        vertical-align: middle;\n",
       "    }\n",
       "\n",
       "    .dataframe tbody tr th {\n",
       "        vertical-align: top;\n",
       "    }\n",
       "\n",
       "    .dataframe thead th {\n",
       "        text-align: right;\n",
       "    }\n",
       "</style>\n",
       "<table border=\"1\" class=\"dataframe\">\n",
       "  <thead>\n",
       "    <tr style=\"text-align: right;\">\n",
       "      <th></th>\n",
       "      <th>anime_id</th>\n",
       "      <th>name</th>\n",
       "      <th>genre</th>\n",
       "      <th>type</th>\n",
       "      <th>episodes</th>\n",
       "      <th>rating</th>\n",
       "      <th>members</th>\n",
       "    </tr>\n",
       "  </thead>\n",
       "  <tbody>\n",
       "    <tr>\n",
       "      <th>0</th>\n",
       "      <td>32281</td>\n",
       "      <td>Kimi no Na wa.</td>\n",
       "      <td>Drama, Romance, School, Supernatural</td>\n",
       "      <td>Movie</td>\n",
       "      <td>1</td>\n",
       "      <td>9</td>\n",
       "      <td>200630</td>\n",
       "    </tr>\n",
       "    <tr>\n",
       "      <th>1</th>\n",
       "      <td>5114</td>\n",
       "      <td>Fullmetal Alchemist: Brotherhood</td>\n",
       "      <td>Action, Adventure, Drama, Fantasy, Magic, Mili...</td>\n",
       "      <td>TV</td>\n",
       "      <td>64</td>\n",
       "      <td>9</td>\n",
       "      <td>793665</td>\n",
       "    </tr>\n",
       "    <tr>\n",
       "      <th>2</th>\n",
       "      <td>28977</td>\n",
       "      <td>Gintama°</td>\n",
       "      <td>Action, Comedy, Historical, Parody, Samurai, S...</td>\n",
       "      <td>TV</td>\n",
       "      <td>51</td>\n",
       "      <td>9</td>\n",
       "      <td>114262</td>\n",
       "    </tr>\n",
       "    <tr>\n",
       "      <th>3</th>\n",
       "      <td>9253</td>\n",
       "      <td>Steins;Gate</td>\n",
       "      <td>Sci-Fi, Thriller</td>\n",
       "      <td>TV</td>\n",
       "      <td>24</td>\n",
       "      <td>9</td>\n",
       "      <td>673572</td>\n",
       "    </tr>\n",
       "    <tr>\n",
       "      <th>4</th>\n",
       "      <td>9969</td>\n",
       "      <td>Gintama&amp;#039;</td>\n",
       "      <td>Action, Comedy, Historical, Parody, Samurai, S...</td>\n",
       "      <td>TV</td>\n",
       "      <td>51</td>\n",
       "      <td>9</td>\n",
       "      <td>151266</td>\n",
       "    </tr>\n",
       "    <tr>\n",
       "      <th>...</th>\n",
       "      <td>...</td>\n",
       "      <td>...</td>\n",
       "      <td>...</td>\n",
       "      <td>...</td>\n",
       "      <td>...</td>\n",
       "      <td>...</td>\n",
       "      <td>...</td>\n",
       "    </tr>\n",
       "    <tr>\n",
       "      <th>12289</th>\n",
       "      <td>9316</td>\n",
       "      <td>Toushindai My Lover: Minami tai Mecha-Minami</td>\n",
       "      <td>Hentai</td>\n",
       "      <td>OVA</td>\n",
       "      <td>1</td>\n",
       "      <td>4</td>\n",
       "      <td>211</td>\n",
       "    </tr>\n",
       "    <tr>\n",
       "      <th>12290</th>\n",
       "      <td>5543</td>\n",
       "      <td>Under World</td>\n",
       "      <td>Hentai</td>\n",
       "      <td>OVA</td>\n",
       "      <td>1</td>\n",
       "      <td>4</td>\n",
       "      <td>183</td>\n",
       "    </tr>\n",
       "    <tr>\n",
       "      <th>12291</th>\n",
       "      <td>5621</td>\n",
       "      <td>Violence Gekiga David no Hoshi</td>\n",
       "      <td>Hentai</td>\n",
       "      <td>OVA</td>\n",
       "      <td>4</td>\n",
       "      <td>4</td>\n",
       "      <td>219</td>\n",
       "    </tr>\n",
       "    <tr>\n",
       "      <th>12292</th>\n",
       "      <td>6133</td>\n",
       "      <td>Violence Gekiga Shin David no Hoshi: Inma Dens...</td>\n",
       "      <td>Hentai</td>\n",
       "      <td>OVA</td>\n",
       "      <td>1</td>\n",
       "      <td>5</td>\n",
       "      <td>175</td>\n",
       "    </tr>\n",
       "    <tr>\n",
       "      <th>12293</th>\n",
       "      <td>26081</td>\n",
       "      <td>Yasuji no Pornorama: Yacchimae!!</td>\n",
       "      <td>Hentai</td>\n",
       "      <td>Movie</td>\n",
       "      <td>1</td>\n",
       "      <td>5</td>\n",
       "      <td>142</td>\n",
       "    </tr>\n",
       "  </tbody>\n",
       "</table>\n",
       "<p>11830 rows × 7 columns</p>\n",
       "</div>"
      ],
      "text/plain": [
       "       anime_id                                               name  \\\n",
       "0         32281                                     Kimi no Na wa.   \n",
       "1          5114                   Fullmetal Alchemist: Brotherhood   \n",
       "2         28977                                           Gintama°   \n",
       "3          9253                                        Steins;Gate   \n",
       "4          9969                                      Gintama&#039;   \n",
       "...         ...                                                ...   \n",
       "12289      9316       Toushindai My Lover: Minami tai Mecha-Minami   \n",
       "12290      5543                                        Under World   \n",
       "12291      5621                     Violence Gekiga David no Hoshi   \n",
       "12292      6133  Violence Gekiga Shin David no Hoshi: Inma Dens...   \n",
       "12293     26081                   Yasuji no Pornorama: Yacchimae!!   \n",
       "\n",
       "                                                   genre   type episodes  \\\n",
       "0                   Drama, Romance, School, Supernatural  Movie        1   \n",
       "1      Action, Adventure, Drama, Fantasy, Magic, Mili...     TV       64   \n",
       "2      Action, Comedy, Historical, Parody, Samurai, S...     TV       51   \n",
       "3                                       Sci-Fi, Thriller     TV       24   \n",
       "4      Action, Comedy, Historical, Parody, Samurai, S...     TV       51   \n",
       "...                                                  ...    ...      ...   \n",
       "12289                                             Hentai    OVA        1   \n",
       "12290                                             Hentai    OVA        1   \n",
       "12291                                             Hentai    OVA        4   \n",
       "12292                                             Hentai    OVA        1   \n",
       "12293                                             Hentai  Movie        1   \n",
       "\n",
       "       rating  members  \n",
       "0           9   200630  \n",
       "1           9   793665  \n",
       "2           9   114262  \n",
       "3           9   673572  \n",
       "4           9   151266  \n",
       "...       ...      ...  \n",
       "12289       4      211  \n",
       "12290       4      183  \n",
       "12291       4      219  \n",
       "12292       5      175  \n",
       "12293       5      142  \n",
       "\n",
       "[11830 rows x 7 columns]"
      ]
     },
     "execution_count": 39,
     "metadata": {},
     "output_type": "execute_result"
    }
   ],
   "source": [
    "df = pd.read_csv(\"C:/Users/Дмитрий/Desktop/ML_VVSU/anime.csv\")\n",
    "\n",
    "df.dropna(inplace=True) #удаление пустых строк\n",
    "df = df.loc[df['episodes'] != 'Unknown']\n",
    "df['rating'] = df['rating'].round(1) #округление\n",
    "df['rating'] = df['rating'].astype(int) #перевод из float в int\n",
    "\n",
    "df\n"
   ]
  },
  {
   "cell_type": "code",
   "execution_count": 40,
   "metadata": {},
   "outputs": [
    {
     "data": {
      "text/html": [
       "<div>\n",
       "<style scoped>\n",
       "    .dataframe tbody tr th:only-of-type {\n",
       "        vertical-align: middle;\n",
       "    }\n",
       "\n",
       "    .dataframe tbody tr th {\n",
       "        vertical-align: top;\n",
       "    }\n",
       "\n",
       "    .dataframe thead th {\n",
       "        text-align: right;\n",
       "    }\n",
       "</style>\n",
       "<table border=\"1\" class=\"dataframe\">\n",
       "  <thead>\n",
       "    <tr style=\"text-align: right;\">\n",
       "      <th></th>\n",
       "      <th>anime_id</th>\n",
       "      <th>name</th>\n",
       "      <th>genre</th>\n",
       "      <th>type</th>\n",
       "      <th>episodes</th>\n",
       "      <th>rating</th>\n",
       "      <th>members</th>\n",
       "    </tr>\n",
       "  </thead>\n",
       "  <tbody>\n",
       "    <tr>\n",
       "      <th>72</th>\n",
       "      <td>16894</td>\n",
       "      <td>Kuroko no Basket 2nd Season</td>\n",
       "      <td>Comedy, School, Shounen, Sports</td>\n",
       "      <td>TV</td>\n",
       "      <td>25</td>\n",
       "      <td>8</td>\n",
       "      <td>243325</td>\n",
       "    </tr>\n",
       "  </tbody>\n",
       "</table>\n",
       "</div>"
      ],
      "text/plain": [
       "    anime_id                         name                            genre  \\\n",
       "72     16894  Kuroko no Basket 2nd Season  Comedy, School, Shounen, Sports   \n",
       "\n",
       "   type episodes  rating  members  \n",
       "72   TV       25       8   243325  "
      ]
     },
     "execution_count": 40,
     "metadata": {},
     "output_type": "execute_result"
    }
   ],
   "source": [
    "df.iloc[[72]]"
   ]
  },
  {
   "cell_type": "code",
   "execution_count": 41,
   "metadata": {},
   "outputs": [],
   "source": [
    "a = {\"episodes\":{'Unknown': 0}}\n",
    "df = df.replace(a)            "
   ]
  },
  {
   "cell_type": "code",
   "execution_count": 42,
   "metadata": {},
   "outputs": [
    {
     "data": {
      "text/plain": [
       "anime_id     int64\n",
       "name        object\n",
       "genre       object\n",
       "type        object\n",
       "episodes    object\n",
       "rating       int32\n",
       "members      int64\n",
       "dtype: object"
      ]
     },
     "execution_count": 42,
     "metadata": {},
     "output_type": "execute_result"
    }
   ],
   "source": [
    "df.dtypes"
   ]
  },
  {
   "cell_type": "code",
   "execution_count": 43,
   "metadata": {
    "id": "u3OeTGcGp2sY"
   },
   "outputs": [
    {
     "data": {
      "text/plain": [
       "count    11830.000000\n",
       "mean         6.042181\n",
       "std          1.057400\n",
       "min          1.000000\n",
       "25%          5.000000\n",
       "50%          6.000000\n",
       "75%          7.000000\n",
       "max         10.000000\n",
       "Name: rating, dtype: float64"
      ]
     },
     "execution_count": 43,
     "metadata": {},
     "output_type": "execute_result"
    }
   ],
   "source": [
    "describe = df[\"rating\"].describe()\n",
    "describe"
   ]
  },
  {
   "cell_type": "code",
   "execution_count": null,
   "metadata": {},
   "outputs": [],
   "source": []
  },
  {
   "cell_type": "code",
   "execution_count": 44,
   "metadata": {
    "id": "ud5DMETOU8hS"
   },
   "outputs": [
    {
     "data": {
      "text/plain": [
       "type\n",
       "Movie      5.892383\n",
       "Music      5.154004\n",
       "ONA        5.217822\n",
       "OVA        5.934073\n",
       "Special    6.079880\n",
       "TV         6.478980\n",
       "Name: rating, dtype: float64"
      ]
     },
     "execution_count": 44,
     "metadata": {},
     "output_type": "execute_result"
    }
   ],
   "source": [
    "mean = df.groupby(['type'])['rating'].mean()\n",
    "mean"
   ]
  },
  {
   "cell_type": "code",
   "execution_count": 45,
   "metadata": {
    "id": "TVB8P3FDVwxM"
   },
   "outputs": [
    {
     "data": {
      "text/plain": [
       "type\n",
       "Movie      6.0\n",
       "Music      5.0\n",
       "ONA        5.0\n",
       "OVA        6.0\n",
       "Special    6.0\n",
       "TV         7.0\n",
       "Name: rating, dtype: float64"
      ]
     },
     "execution_count": 45,
     "metadata": {},
     "output_type": "execute_result"
    }
   ],
   "source": [
    "median = df.groupby(['type'])['rating'].median()\n",
    "median"
   ]
  },
  {
   "cell_type": "code",
   "execution_count": 46,
   "metadata": {
    "id": "0xHCgiXCVyhs"
   },
   "outputs": [
    {
     "data": {
      "text/plain": [
       "type\n",
       "Movie           6\n",
       "Music           5\n",
       "ONA        [5, 6]\n",
       "OVA             6\n",
       "Special         6\n",
       "TV              7\n",
       "Name: rating, dtype: object"
      ]
     },
     "execution_count": 46,
     "metadata": {},
     "output_type": "execute_result"
    }
   ],
   "source": [
    "mode = df.groupby('type')['rating'].agg(pd.Series.mode)\n",
    "mode"
   ]
  },
  {
   "cell_type": "code",
   "execution_count": 47,
   "metadata": {
    "id": "HprClRfXVzxW"
   },
   "outputs": [
    {
     "data": {
      "text/plain": [
       "type\n",
       "Movie      1\n",
       "Music      3\n",
       "ONA        2\n",
       "OVA        2\n",
       "Special    1\n",
       "TV         3\n",
       "Name: rating, dtype: int32"
      ]
     },
     "execution_count": 47,
     "metadata": {},
     "output_type": "execute_result"
    }
   ],
   "source": [
    "min = df.groupby(['type'])['rating'].min()\n",
    "min"
   ]
  },
  {
   "cell_type": "code",
   "execution_count": 48,
   "metadata": {
    "id": "sA2gR7IAV1k3"
   },
   "outputs": [
    {
     "data": {
      "text/plain": [
       "type\n",
       "Movie      10\n",
       "Music       8\n",
       "ONA         8\n",
       "OVA         9\n",
       "Special     8\n",
       "TV          9\n",
       "Name: rating, dtype: int32"
      ]
     },
     "execution_count": 48,
     "metadata": {},
     "output_type": "execute_result"
    }
   ],
   "source": [
    "max = df.groupby(['type'])['rating'].max()\n",
    "max"
   ]
  },
  {
   "cell_type": "code",
   "execution_count": 49,
   "metadata": {
    "id": "BWeXHW3Vovz4"
   },
   "outputs": [
    {
     "data": {
      "text/plain": [
       "type\n",
       "Movie      1.233280\n",
       "Music      1.011711\n",
       "ONA        1.187572\n",
       "OVA        0.902981\n",
       "Special    0.928442\n",
       "TV         0.885105\n",
       "Name: rating, dtype: float64"
      ]
     },
     "execution_count": 49,
     "metadata": {},
     "output_type": "execute_result"
    }
   ],
   "source": [
    "std = df.groupby(['type'])['rating'].std()\n",
    "std"
   ]
  },
  {
   "cell_type": "markdown",
   "metadata": {
    "id": "dZEVd9QIVMyV"
   },
   "source": [
    "Вычислите следующие квантили: 25%, 50% (медиана), 75% для числового признака вашего датасета. Затем найдите интерквартильный размах."
   ]
  },
  {
   "cell_type": "code",
   "execution_count": 50,
   "metadata": {
    "id": "2UMcBq9dVbVE"
   },
   "outputs": [
    {
     "data": {
      "text/plain": [
       "type\n",
       "Movie      5.0\n",
       "Music      5.0\n",
       "ONA        4.0\n",
       "OVA        5.0\n",
       "Special    6.0\n",
       "TV         6.0\n",
       "Name: rating, dtype: float64"
      ]
     },
     "execution_count": 50,
     "metadata": {},
     "output_type": "execute_result"
    }
   ],
   "source": [
    "q1 = df.groupby(['type'])['rating'].quantile(0.25) # (25% квантиль) ваш код здесь\n",
    "q1"
   ]
  },
  {
   "cell_type": "code",
   "execution_count": 51,
   "metadata": {
    "id": "8joJvKduWJsC"
   },
   "outputs": [
    {
     "data": {
      "text/plain": [
       "type\n",
       "Movie      6.0\n",
       "Music      5.0\n",
       "ONA        5.0\n",
       "OVA        6.0\n",
       "Special    6.0\n",
       "TV         7.0\n",
       "Name: rating, dtype: float64"
      ]
     },
     "execution_count": 51,
     "metadata": {},
     "output_type": "execute_result"
    }
   ],
   "source": [
    "q2 = df.groupby(['type'])['rating'].quantile(0.5) # (50% квантиль) ваш код здесь\n",
    "q2"
   ]
  },
  {
   "cell_type": "code",
   "execution_count": 52,
   "metadata": {
    "id": "pQTQqM3GWLOV"
   },
   "outputs": [
    {
     "data": {
      "text/plain": [
       "type\n",
       "Movie      7.0\n",
       "Music      6.0\n",
       "ONA        6.0\n",
       "OVA        6.0\n",
       "Special    7.0\n",
       "TV         7.0\n",
       "Name: rating, dtype: float64"
      ]
     },
     "execution_count": 52,
     "metadata": {},
     "output_type": "execute_result"
    }
   ],
   "source": [
    "q3 = df.groupby(['type'])['rating'].quantile(0.75) # (75% квантиль) ваш код здесь\n",
    "q3"
   ]
  },
  {
   "cell_type": "markdown",
   "metadata": {
    "id": "SAW8DnnK9kCL"
   },
   "source": []
  },
  {
   "cell_type": "code",
   "execution_count": 53,
   "metadata": {
    "id": "lAwZHIbfWMmH"
   },
   "outputs": [
    {
     "data": {
      "text/plain": [
       "type\n",
       "Movie      2.0\n",
       "Music      1.0\n",
       "ONA        2.0\n",
       "OVA        1.0\n",
       "Special    1.0\n",
       "TV         1.0\n",
       "Name: rating, dtype: float64"
      ]
     },
     "execution_count": 53,
     "metadata": {},
     "output_type": "execute_result"
    }
   ],
   "source": [
    "iqr = q3 - q1 # (интерквартильный размах) ваш код здесь\n",
    "iqr"
   ]
  },
  {
   "cell_type": "markdown",
   "metadata": {
    "id": "vm0-5sY4WX2I"
   },
   "source": [
    "Какие выводы можно сделать исходя из полученных статистических данных?"
   ]
  },
  {
   "cell_type": "markdown",
   "metadata": {
    "id": "OnO1hVGyWe8D"
   },
   "source": [
    "Исходя из полученных данных (min,max,mode,median,mean,std) можно сказать что в данных есть большие отличия в зависимости от типа аниме. Минимальный рейтинг прослеживается у Special, максимальный у Movie.\n",
    "Между медианами и средними значениями практически нет отличий\n",
    "Мода среди рейтинга практически чреди всех типов аниме ровна 6"
   ]
  },
  {
   "cell_type": "markdown",
   "metadata": {
    "id": "zDISZbQVWk6m"
   },
   "source": [
    "##Основы визуализации"
   ]
  },
  {
   "cell_type": "markdown",
   "metadata": {
    "id": "aU8cakZvZBuj"
   },
   "source": [
    " Постройте гистограмму переменной (X) относительно категориального признака (Y) из своего датасета."
   ]
  },
  {
   "cell_type": "code",
   "execution_count": 54,
   "metadata": {
    "id": "9-KTIzdfZLmP"
   },
   "outputs": [
    {
     "data": {
      "image/png": "[encoded data removed]",
      "text/plain": [
       "<Figure size 640x480 with 1 Axes>"
      ]
     },
     "metadata": {},
     "output_type": "display_data"
    }
   ],
   "source": [
    "sns.countplot(x='rating', hue='type', data=df);"
   ]
  },
  {
   "cell_type": "markdown",
   "metadata": {},
   "source": [
    "Из гистограммы видно, что наиболее распространенные оценки получаются для OVA, при этом средний рейтинг составляет 6,\n",
    "TV тоже часто оценивается, но средний рейтинг выше и приближается к 7.m"
   ]
  },
  {
   "cell_type": "markdown",
   "metadata": {
    "id": "zPsEO4m1ZWDy"
   },
   "source": [
    "Постройте boxplot любого признака из своего датасета.\n",
    "\n",
    "1) boxplot числовой переменной;\n",
    "\n",
    "2) boxplot числовой переменной относительно категориальный переменной;\n",
    "\n",
    "*p.s. Если у вас только один числовой признак, преобразуйте категориальный при помощи LabelEncoder (https://scikit-learn.org/stable/modules/generated/sklearn.preprocessing.LabelEncoder.html)*"
   ]
  },
  {
   "cell_type": "code",
   "execution_count": 66,
   "metadata": {
    "id": "ccJLh1r-Zdne"
   },
   "outputs": [
    {
     "data": {
      "image/png": "[encoded data removed]",
      "text/plain": [
       "<Figure size 640x480 with 1 Axes>"
      ]
     },
     "metadata": {},
     "output_type": "display_data"
    }
   ],
   "source": [
    "plt.boxplot(df['rating'])\n",
    "plt.xlabel('рейтинг')\n",
    "plt.show()"
   ]
  },
  {
   "cell_type": "markdown",
   "metadata": {},
   "source": [
    "Исходя из данных гистограммы, видно, что в датасете есть аниме с рейтингом 1,\n",
    "и данное значение рассматривается как выброс."
   ]
  },
  {
   "cell_type": "code",
   "execution_count": 56,
   "metadata": {
    "id": "9ZRV3jjlq9NN"
   },
   "outputs": [
    {
     "data": {
      "text/plain": [
       "<Axes: xlabel='type', ylabel='rating'>"
      ]
     },
     "execution_count": 56,
     "metadata": {},
     "output_type": "execute_result"
    },
    {
     "data": {
      "image/png": "[encoded data removed]",
      "text/plain": [
       "<Figure size 640x480 with 1 Axes>"
      ]
     },
     "metadata": {},
     "output_type": "display_data"
    }
   ],
   "source": [
    "sns.boxplot(y=\"rating\", x=\"type\", data=df)"
   ]
  },
  {
   "cell_type": "markdown",
   "metadata": {},
   "source": [
    "Из этойдиаграммы видно, что во всех типах, за исключением ONA, наблюдаются выбросы. Special содержит больше всего выбрасов"
   ]
  },
  {
   "cell_type": "markdown",
   "metadata": {
    "id": "mj8cdITDZh53"
   },
   "source": [
    "Постройте диаграмму рассеивания для числовых признаков вашего датасета.\n",
    "\n",
    "*p.s. Если у вас только один числовой признак, преобразуйте категориальный при помощи LabelEncoder (https://scikit-learn.org/stable/modules/generated/sklearn.preprocessing.LabelEncoder.html)*"
   ]
  },
  {
   "cell_type": "code",
   "execution_count": 57,
   "metadata": {
    "id": "V2-ZoNUcZ_2l"
   },
   "outputs": [
    {
     "data": {
      "image/png": "[encoded data removed]",
      "text/plain": [
       "<Figure size 640x480 with 1 Axes>"
      ]
     },
     "metadata": {},
     "output_type": "display_data"
    }
   ],
   "source": [
    "sns.scatterplot(x=df['members'], y=df['rating'], color='purple')\n",
    "plt.title('Диаграмма рассеивания для id и рейтинга')\n",
    "plt.xlabel('эпизоды')\n",
    "plt.ylabel('рейтинг')\n",
    "plt.show()    "
   ]
  },
  {
   "cell_type": "markdown",
   "metadata": {},
   "source": [
    "Заметно, что аниме с меньшим числом эпизодов имеют более высокий рейтинг по сравнению с теми, у которых большее количество\n",
    "эпизодов, и это соответствует уменьшению рейтинга по мере увеличения числа эпизодов."
   ]
  },
  {
   "cell_type": "markdown",
   "metadata": {
    "id": "S-jG4a5SaFXS"
   },
   "source": [
    "Постройте матрицу корреляции для двух числовых признаков вашего датасета."
   ]
  },
  {
   "cell_type": "code",
   "execution_count": 58,
   "metadata": {
    "id": "u_lOnPtjnfbq"
   },
   "outputs": [
    {
     "data": {
      "text/plain": [
       "<Axes: >"
      ]
     },
     "execution_count": 58,
     "metadata": {},
     "output_type": "execute_result"
    },
    {
     "data": {
      "image/png": "[encoded data removed]",
      "text/plain": [
       "<Figure size 640x480 with 2 Axes>"
      ]
     },
     "metadata": {},
     "output_type": "display_data"
    }
   ],
   "source": [
    "grouped_data = df[[\"members\",\"rating\"]]\n",
    "\n",
    "corr_matrix = grouped_data.corr()\n",
    "\n",
    "sns.heatmap(corr_matrix, annot=True)"
   ]
  },
  {
   "cell_type": "markdown",
   "metadata": {},
   "source": [
    "Из матрицы корреляции видно, что существует слабая, поскольку она чуть выше нуля, взаимосвязь между rating и members\n",
    "Поскольку она чуть выше нуля"
   ]
  },
  {
   "cell_type": "markdown",
   "metadata": {
    "id": "2MVHWXICaoJ4"
   },
   "source": [
    "Какие выводы можно сделать на основе графиков и матрицы корреляции?"
   ]
  },
  {
   "cell_type": "markdown",
   "metadata": {
    "id": "HFAFaiNzatLN"
   },
   "source": [
    "**Ответ здесь**"
   ]
  },
  {
   "cell_type": "markdown",
   "metadata": {
    "id": "K5HCSPTPbwfJ"
   },
   "source": [
    "##Задание для гениев*"
   ]
  },
  {
   "cell_type": "markdown",
   "metadata": {
    "id": "pil5bgt5b98A"
   },
   "source": [
    "Реализовать следующие методы поиска выбросов:\n",
    "1. На основе среднего и отклонения\n",
    "2. Критерий Шовене\n",
    "3. С помощью квартилей\n",
    "4. Поиск выбросов по двум переменным\n",
    "\n",
    "[Посмотреть](http://course.omgtu.ru/wp-content/uploads/2021/04/3_%D0%92%D1%8B%D0%B1%D1%80%D0%BE%D1%81%D1%8B.pdf)\n",
    "\n",
    "P.S. в качестве возвразаемого значения методов может быть:\n",
    "1. очищенный датафрейм\n",
    "2. индексы выбросов ```df.series.index```"
   ]
  },
  {
   "cell_type": "code",
   "execution_count": 59,
   "metadata": {},
   "outputs": [],
   "source": [
    "import math\n",
    "from statistics import median, mean\n",
    "from sklearn.cluster import DBSCAN\n",
    "\n",
    "class Outline:\n",
    "  def __init__(self, df):\n",
    "    self.df = df\n",
    "  def detec_otline_by_showene(self, column_name):\n",
    "        res = []\n",
    "        n = self.df[column_name].count()\n",
    "        mean = self.df[column_name].mean()\n",
    "        std = self.df[column_name].std()\n",
    "        for index, value in self.df.iterrows():\n",
    "            if math.erfc((abs(value[column_name] - mean)) / std) < 1 / (2 * n):\n",
    "                res.append((index, value[column_name]))\n",
    "            else:\n",
    "                n -= 1\n",
    "        return res\n",
    "\n",
    "  def detect_outline_by_quantile(self, column_name):\n",
    "        Q1 = self.df[column_name].quantile(0.25)\n",
    "        Q3 = self.df[column_name].quantile(0.75)\n",
    "        minimum = Q1 - 1.5 * (Q3 - Q1)\n",
    "        maximum = Q3 + 1.5 * (Q3 - Q1)\n",
    "        outliers = self.df[(self.df[column_name] < minimum) | (self.df[column_name] > maximum)]\n",
    "        return outliers.items()\n",
    "\n",
    "  def delete_outline_by_mean(self, column_name):\n",
    "    mean_data = mean(self.df[column_name])\n",
    "    maximum = mean_data * 2\n",
    "    result = []\n",
    "\n",
    "    for item in self.df[column_name]:\n",
    "      if abs(item - mean_data) < maximum:\n",
    "        result.append(item)\n",
    "\n",
    "    return result\n",
    "  def detect_outline_by_mean_std(self,column_name,coef):\n",
    "        mean = self.df[column_name].mean()\n",
    "        median = self.df[column_name].median()\n",
    "        std = self.df[column_name].std()\n",
    "        n = self.df[column_name].count()\n",
    "        lower_bound = mean - coef  * std\n",
    "        upper_bound = mean + coef * std\n",
    "        outliners = self.df[(self.df[column_name] >= lower_bound) & (self.df[column_name]<=upper_bound)]\n",
    "        return outliners.items()\n",
    "  def detect_outliner_by_DBSCAN(self, col1, col2, eps, min_samples=2):\n",
    "        data = self.df[[col1, col2]].to_numpy()\n",
    "\n",
    "        db = DBSCAN(eps=eps, min_samples=min_samples).fit(data)\n",
    "        labels = db.labels_\n",
    "\n",
    "        # Вычисление количества элементов в каждом кластере\n",
    "        unique, counts = np.unique(labels, return_counts=True)\n",
    "        clusters_counts = dict(zip(unique, counts))\n",
    "        print(labels)\n",
    "        # Поиск кластеров с количеством элементов <= 2\n",
    "        small_clusters = [cluster for cluster, count in clusters_counts.items() if count <= 2]\n",
    "        print(small_clusters)\n",
    "\n",
    "        # Возвращение индексов строк для этих кластеров\n",
    "        outlier_indices = self.df.index[np.isin(labels, small_clusters)].tolist()\n",
    "\n",
    "        return outlier_indices"
   ]
  },
  {
   "cell_type": "code",
   "execution_count": 60,
   "metadata": {},
   "outputs": [
    {
     "name": "stdout",
     "output_type": "stream",
     "text": [
      "idx\tnum\n",
      "col1 0    100\n",
      "1    101\n",
      "2    102\n",
      "4    103\n",
      "5    104\n",
      "Name: col1, dtype: int64\n",
      "col2 0    100\n",
      "1    101\n",
      "2    102\n",
      "4    104\n",
      "5    105\n",
      "Name: col2, dtype: int64\n"
     ]
    }
   ],
   "source": [
    "#1 На основе среднего и отклонения\n",
    "data = pd.DataFrame(\n",
    "    data = {\n",
    "        \"col1\": [100, 101, 102, 1004, 103, 104],\n",
    "        \"col2\": [100, 101, 102, 103, 104, 105]\n",
    "    }\n",
    ")\n",
    "\n",
    "so = Outline(data)\n",
    "outliners = so.detect_outline_by_mean_std(\"col1\",1.5)\n",
    "print(f\"idx\\tnum\")\n",
    "for idx,item in outliners:\n",
    "    print(idx,item)"
   ]
  },
  {
   "cell_type": "code",
   "execution_count": 61,
   "metadata": {},
   "outputs": [
    {
     "name": "stdout",
     "output_type": "stream",
     "text": [
      "idx\tnum\n",
      "5\t1004\n"
     ]
    }
   ],
   "source": [
    "#2. Критерий Шовене\n",
    "data = pd.DataFrame(\n",
    "    data = {\n",
    "        \"col1\": [100, 102, 103, 104, 105, 1004],\n",
    "        \"col2\": [100, 102, 103, 104, 105, 106]\n",
    "    }\n",
    ")\n",
    "\n",
    "so = Outline(data)\n",
    "outlines = so.detec_otline_by_showene(\"col1\")\n",
    "print(f\"idx\\tnum\")\n",
    "for tup in outlines:\n",
    "    print(f\"{tup[0]}\\t{tup[1]}\")"
   ]
  },
  {
   "cell_type": "code",
   "execution_count": 62,
   "metadata": {},
   "outputs": [
    {
     "name": "stdout",
     "output_type": "stream",
     "text": [
      "idx\tnum\n",
      "col1 5    1004\n",
      "Name: col1, dtype: int64\n",
      "col2 5    104\n",
      "Name: col2, dtype: int64\n"
     ]
    }
   ],
   "source": [
    "#3. С помощью квартилей\n",
    "data = pd.DataFrame(\n",
    "    data = {\n",
    "        \"col1\": [100, 102, 103, 104, 105, 1004],\n",
    "        \"col2\": [100, 102, 103, 102, 101, 104]\n",
    "    }\n",
    ")\n",
    "\n",
    "so = Outline(data)\n",
    "outliners = so.detect_outline_by_quantile(\"col1\")\n",
    "print(f\"idx\\tnum\")\n",
    "for idx,item in outliners:\n",
    "    print(idx,item)"
   ]
  },
  {
   "cell_type": "code",
   "execution_count": 63,
   "metadata": {},
   "outputs": [
    {
     "name": "stdout",
     "output_type": "stream",
     "text": [
      "[ 0  0  0  0  0 -1]\n",
      "[-1]\n"
     ]
    },
    {
     "data": {
      "text/plain": [
       "[5]"
      ]
     },
     "execution_count": 63,
     "metadata": {},
     "output_type": "execute_result"
    }
   ],
   "source": [
    "#detect_outliner_by_DBSCAN\n",
    "data = pd.DataFrame(\n",
    "    data = {\n",
    "        \"col1\": [100, 102, 103, 104, 105, 100000],\n",
    "        \"col2\": [100, 102, 103, 104, 105, 106]\n",
    "    }\n",
    ")\n",
    "\n",
    "so = Outline(data)\n",
    "so.detect_outliner_by_DBSCAN(\"col1\", \"col2\", 10, 2)"
   ]
  },
  {
   "cell_type": "markdown",
   "metadata": {
    "id": "dRQRyxdgD_sk"
   },
   "source": [
    "### Пример реализации одного метода"
   ]
  },
  {
   "cell_type": "code",
   "execution_count": null,
   "metadata": {},
   "outputs": [],
   "source": []
  }
 ],
 "metadata": {
  "colab": {
   "include_colab_link": true,
   "provenance": []
  },
  "kernelspec": {
   "display_name": "Python 3 (ipykernel)",
   "language": "python",
   "name": "python3"
  },
  "language_info": {
   "codemirror_mode": {
    "name": "ipython",
    "version": 3
   },
   "file_extension": ".py",
   "mimetype": "text/x-python",
   "name": "python",
   "nbconvert_exporter": "python",
   "pygments_lexer": "ipython3",
   "version": "3.11.4"
  }
 },
 "nbformat": 4,
 "nbformat_minor": 1
}
